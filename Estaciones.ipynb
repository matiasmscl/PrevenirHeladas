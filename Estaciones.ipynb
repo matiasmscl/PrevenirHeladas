{
 "cells": [
  {
   "cell_type": "markdown",
   "metadata": {},
   "source": [
    "# Librerias"
   ]
  },
  {
   "cell_type": "code",
   "execution_count": 1,
   "metadata": {},
   "outputs": [],
   "source": [
    "import pandas\n",
    "import matplotlib.pyplot as plt"
   ]
  },
  {
   "cell_type": "markdown",
   "metadata": {},
   "source": [
    "# Funciones de lectura de Información:"
   ]
  },
  {
   "cell_type": "markdown",
   "metadata": {},
   "source": [
    "La función \"lecturaestacion\", lee los archivos de la estación a analizar y obtiene los datos entre\n",
    "Enero 2018 y Diciembre 2019."
   ]
  },
  {
   "cell_type": "code",
   "execution_count": 2,
   "metadata": {},
   "outputs": [],
   "source": [
    "def lecturaestacion(numero,elemento):\n",
    "    fechas = ('201802','201803','201804','201805','201806','201807','201808','201809','201810','201811','201812',\n",
    "        '201901','201902','201903','201904','201905','201906','201907','201908','201909','201910','201911','201912')\n",
    "    Datos = pandas.read_csv('/home/matias/Escritorio/2Meteorologicas/'+numero+'/'+numero+'_201801_'+elemento+'.csv',sep=';')\n",
    "    for fec in fechas:\n",
    "        direccion = '/home/matias/Escritorio/2Meteorologicas/'+numero+'/'+numero+'_'+fec+'_'+elemento+'.csv'\n",
    "        Datos2 = pandas.read_csv(direccion,sep=';')\n",
    "        Datos = pandas.concat([Datos,Datos2])\n",
    "    Largo_BD=len(Datos)\n",
    "    columnas=list(Datos.columns.values)\n",
    "    for col in columnas:\n",
    "        if Datos[col].isna().sum()==Largo_BD:\n",
    "            Datos=Datos.drop(columns=[col])\n",
    "    if Datos['idEquipo'].sum()==0:\n",
    "        Datos=Datos.drop(columns=['idEquipo'])\n",
    "    return Datos"
   ]
  },
  {
   "cell_type": "markdown",
   "metadata": {},
   "source": [
    "La función \"leerbases\" implementa la función \"lecturaestacion\" para cada una de las variables."
   ]
  },
  {
   "cell_type": "code",
   "execution_count": 3,
   "metadata": {},
   "outputs": [],
   "source": [
    "def leerbases(numero):\n",
    "    return {'Agua':lecturaestacion(numero,'AguaCaida'),'PrHu':lecturaestacion(numero,'PresionHumedad'),\n",
    "           'Radi':lecturaestacion(numero,'RadiacionGlobal'),'Temp':lecturaestacion(numero,'Temperatura'),\n",
    "           'Wind':lecturaestacion(numero,'Viento')}"
   ]
  },
  {
   "cell_type": "markdown",
   "metadata": {},
   "source": [
    "La función \"Armarbase\" une la información de cada uno de los archivos obtenidos por función \"leerbases\" en un dataframe."
   ]
  },
  {
   "cell_type": "code",
   "execution_count": 4,
   "metadata": {},
   "outputs": [],
   "source": [
    "def Armarbase(numero):\n",
    "    Bases=leerbases(numero)\n",
    "    Agua=Bases['Agua'].set_index('momento').loc[:,['rrInst','rr6Horas','rr24Horas']]\n",
    "    PrHu=Bases['PrHu'].set_index('momento').loc[:,['hr','p0','qfe1','qff','qnh']]\n",
    "    Radi=Bases['Radi'].set_index('momento').loc[:,['radiacionGlobalInst','radiacionGlobalAcumulada24Horas']]\n",
    "    Wind=Bases['Wind'].set_index('momento').loc[:,['ddInst','ffInst','dd02Minutos','ff02Minutos','dd10Minutos','ff10Minutos']]\n",
    "    Temp=Bases['Temp'].set_index('momento').loc[:,['ts','td','tMin12Horas','tMax12Horas','horaTMin12Horas','horaTMax12Horas']]\n",
    "    Base=Agua.join(PrHu,how='outer').join(Radi,how='outer').join(Wind,how='outer').join(Temp,how='outer')\n",
    "    Base2=Instantes(Base)\n",
    "    return Base2"
   ]
  },
  {
   "cell_type": "markdown",
   "metadata": {},
   "source": [
    "La función \"Instantes\" es utilizada por función \"Armarbase\" para desglosar las variables temporales como años, meses, días, horas y minutos, y, calcular Hora_Min_t y Hora_Max_t."
   ]
  },
  {
   "cell_type": "code",
   "execution_count": 5,
   "metadata": {},
   "outputs": [],
   "source": [
    "def Instantes(Bases):\n",
    "    Aux=Bases.reset_index()\n",
    "    Aux=Aux[Aux.isna().sum(1)==0]\n",
    "    Aux['Anno'] = pandas.to_datetime(Aux['momento']).map(lambda x: x.year).astype('uint16')\n",
    "    Aux['Mes'] = pandas.to_datetime(Aux['momento']).map(lambda x: x.month).astype('uint8')\n",
    "    Aux['Dia'] = pandas.to_datetime(Aux['momento']).map(lambda x: x.day).astype('uint8')\n",
    "    Aux['Hora'] = pandas.to_datetime(Aux['momento']).map(lambda x: x.hour).astype('uint8')\n",
    "    Aux['Minuto'] = pandas.to_datetime(Aux['momento']).map(lambda x: x.minute).astype('uint8')\n",
    "    Aux['momento']=pandas.to_datetime(Aux['momento'])\n",
    "    Aux['Hora_Min_t'] = pandas.to_datetime(Aux['horaTMin12Horas']).map(lambda x: x.hour).astype('uint8')\n",
    "#    Aux['Minuto_Min_t'] = pandas.to_datetime(Aux['horaTMin12Horas']).map(lambda x: x.minute).astype('uint8')\n",
    "    Aux['Hora_Max_t'] = pandas.to_datetime(Aux['horaTMax12Horas']).map(lambda x: x.hour).astype('uint8')\n",
    "#    Aux['Minuto_Max_t'] = pandas.to_datetime(Aux['horaTMax12Horas']).map(lambda x: x.minute).astype('uint8')\n",
    "    Aux=Aux.drop(columns=['horaTMin12Horas','horaTMax12Horas'])\n",
    "    return Aux"
   ]
  },
  {
   "cell_type": "markdown",
   "metadata": {},
   "source": [
    "# Funciones Para mostrar la base de datos por estación:"
   ]
  },
  {
   "cell_type": "markdown",
   "metadata": {},
   "source": [
    "La función \"DibujaCorr\" grafica las correlaciones entre las variables."
   ]
  },
  {
   "cell_type": "code",
   "execution_count": 6,
   "metadata": {},
   "outputs": [],
   "source": [
    "def Dibujacorr(BD):\n",
    "    plt.matshow(abs(BD.corr()))\n",
    "    plt.xticks(range(len(BD.columns)), BD.columns)\n",
    "    plt.yticks(range(len(BD.columns)), BD.columns)\n",
    "    plt.colorbar()\n",
    "    plt.show()\n",
    "    print(BD.corr()['ts'].round(3))\n",
    "    print('NANs')\n",
    "    display(BD.isnull().sum())\n",
    "    display(BD)"
   ]
  },
  {
   "cell_type": "markdown",
   "metadata": {},
   "source": [
    "La función \"dibujarbd\" muestra las variables contra el tiempo."
   ]
  },
  {
   "cell_type": "code",
   "execution_count": 7,
   "metadata": {},
   "outputs": [],
   "source": [
    "def dibujarbd(BD):\n",
    "    x=BD['momento']\n",
    "    for k in ('rrInst','rr6Horas','rr24Horas'):\n",
    "        plt.scatter(x,BD[k],s=0.4,label=k)\n",
    "    plt.legend(loc='upper right', shadow=True, fontsize='x-large')\n",
    "    plt.xticks(rotation=60)\n",
    "    plt.show()\n",
    "    for k in ('hr','p0','qfe1','qff','qnh'):\n",
    "        plt.scatter(x,BD[k],s=0.4,label=k)\n",
    "    plt.legend(loc='upper right', shadow=True, fontsize='x-large')\n",
    "    plt.xticks(rotation=60)\n",
    "    plt.show()\n",
    "    for k in ('radiacionGlobalInst','radiacionGlobalAcumulada24Horas'):\n",
    "        plt.scatter(x,BD[k],s=0.4,label=k)\n",
    "    plt.legend(loc='upper right', shadow=True, fontsize='x-large')\n",
    "    plt.xticks(rotation=60)\n",
    "    plt.show()\n",
    "    for k in ('ddInst','ffInst','dd02Minutos','ff02Minutos','dd10Minutos','ff10Minutos'):\n",
    "        plt.scatter(x,BD[k],s=0.4,label=k)\n",
    "    plt.legend(loc='upper right', shadow=True, fontsize='x-large')\n",
    "    plt.xticks(rotation=60)\n",
    "    plt.show()\n",
    "    for k in ('ts','td','tMin12Horas','tMax12Horas'):\n",
    "        plt.scatter(x,BD[k],s=0.4,label=k)\n",
    "    plt.legend(loc='upper right', shadow=True, fontsize='x-large')\n",
    "    plt.xticks(rotation=60)\n",
    "    plt.show()\n",
    "    Dibujacorr(BD)"
   ]
  },
  {
   "cell_type": "markdown",
   "metadata": {},
   "source": [
    "La función \"graficar_densidades\" muestra gráficamente las densidades de las variables."
   ]
  },
  {
   "cell_type": "code",
   "execution_count": 8,
   "metadata": {},
   "outputs": [],
   "source": [
    "def graficar_densidades(BD,bins=24):\n",
    "    if ('momento' in BD.columns):\n",
    "        BD2=BD.drop(columns=['momento'])\n",
    "    else:\n",
    "        BD2=BD\n",
    "    largo=len(BD2)\n",
    "    display(BD2.describe())\n",
    "    for k in BD2.columns:\n",
    "        print(k)\n",
    "        aux=pandas.DataFrame()\n",
    "        aux.loc['Máximo','Valor']=round(BD2[k].max(),4)\n",
    "        aux.loc['Mínimo','Valor']=round(BD2[k].min(),4)\n",
    "        aux.loc['Media','Valor']=round(BD2[k].mean(),4)\n",
    "        aux.loc['Mediana','Valor']=round(BD2[k].median(),4)\n",
    "        aux.loc['Desviación Estándar','Valor']=round(BD2[k].std(),4)\n",
    "        aux.loc['Asimetría','Valor']=round(sum(aux.loc['Mediana','Valor']-BD2[k])/aux.loc['Desviación Estándar','Valor']/len(BD2[k]),4)\n",
    "        print(aux)\n",
    "        plt.hist(BD2[k],label=k,bins=bins)\n",
    "        plt.legend(loc='upper right', shadow=True, fontsize='x-large')\n",
    "        plt.xticks(rotation=60)\n",
    "        plt.show()"
   ]
  },
  {
   "cell_type": "markdown",
   "metadata": {},
   "source": [
    "# A Continuación se muestran cada una de las bases de datos utilizando las funciones recién construidas. "
   ]
  },
  {
   "cell_type": "code",
   "execution_count": 9,
   "metadata": {},
   "outputs": [],
   "source": [
    "BD=Armarbase('340115')#Pichilemu\n",
    "BD.to_csv('Pichilemu.csv',sep='|')"
   ]
  },
  {
   "cell_type": "raw",
   "metadata": {},
   "source": [
    "dibujarbd(BD)\n",
    "graficar_densidades(BD)"
   ]
  },
  {
   "cell_type": "code",
   "execution_count": 10,
   "metadata": {},
   "outputs": [],
   "source": [
    "BD=Armarbase('340066')#Nilahue\n",
    "BD.to_csv('Nilahue.csv',sep='|')"
   ]
  },
  {
   "cell_type": "raw",
   "metadata": {},
   "source": [
    "dibujarbd(BD)\n",
    "graficar_densidades(BD)"
   ]
  },
  {
   "cell_type": "code",
   "execution_count": 11,
   "metadata": {},
   "outputs": [],
   "source": [
    "BD=Armarbase('350028')#Panguilemo\n",
    "BD.to_csv('Panguilemo.csv',sep='|')"
   ]
  },
  {
   "cell_type": "raw",
   "metadata": {},
   "source": [
    "dibujarbd(BD)\n",
    "graficar_densidades(BD)"
   ]
  },
  {
   "cell_type": "code",
   "execution_count": 12,
   "metadata": {},
   "outputs": [],
   "source": [
    "BD=Armarbase('360047')#Retiro\n",
    "BD.to_csv('Retiro.csv',sep='|')"
   ]
  },
  {
   "cell_type": "raw",
   "metadata": {},
   "source": [
    "dibujarbd(BD)\n",
    "graficar_densidades(BD)"
   ]
  },
  {
   "cell_type": "code",
   "execution_count": 13,
   "metadata": {},
   "outputs": [],
   "source": [
    "BD=Armarbase('360046')#Chillan\n",
    "BD.to_csv('Chillan.csv',sep='|')"
   ]
  },
  {
   "cell_type": "raw",
   "metadata": {},
   "source": [
    "dibujarbd(BD)\n",
    "graficar_densidades(BD)"
   ]
  },
  {
   "cell_type": "code",
   "execution_count": 14,
   "metadata": {},
   "outputs": [],
   "source": [
    "BD=Armarbase('380013')#Maquehue_Temuco\n",
    "BD.to_csv('Maquehue_Temuco.csv',sep='|')"
   ]
  },
  {
   "cell_type": "raw",
   "metadata": {},
   "source": [
    "dibujarbd(BD)\n",
    "graficar_densidades(BD)"
   ]
  },
  {
   "cell_type": "code",
   "execution_count": 15,
   "metadata": {},
   "outputs": [],
   "source": [
    "BD=Armarbase('380033')#Maquehue_ufro\n",
    "BD.to_csv('Maquehue_ufro.csv',sep='|')"
   ]
  },
  {
   "cell_type": "raw",
   "metadata": {},
   "source": [
    "dibujarbd(BD)\n",
    "graficar_densidades(BD)"
   ]
  },
  {
   "cell_type": "code",
   "execution_count": 16,
   "metadata": {},
   "outputs": [],
   "source": [
    "BD=Armarbase('390029')#Panguipulli\n",
    "BD.to_csv('Panguipulli.csv',sep='|')"
   ]
  },
  {
   "cell_type": "raw",
   "metadata": {},
   "source": [
    "dibujarbd(BD)\n",
    "graficar_densidades(BD)"
   ]
  }
 ],
 "metadata": {
  "kernelspec": {
   "display_name": "Python 3",
   "language": "python",
   "name": "python3"
  },
  "language_info": {
   "codemirror_mode": {
    "name": "ipython",
    "version": 3
   },
   "file_extension": ".py",
   "mimetype": "text/x-python",
   "name": "python",
   "nbconvert_exporter": "python",
   "pygments_lexer": "ipython3",
   "version": "3.7.7"
  }
 },
 "nbformat": 4,
 "nbformat_minor": 4
}
